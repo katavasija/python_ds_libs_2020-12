{
 "cells": [
  {
   "cell_type": "code",
   "execution_count": 57,
   "metadata": {},
   "outputs": [],
   "source": [
    "from pathlib import Path\n",
    "import json\n",
    "import pickle\n",
    "import pandas as pd\n",
    "from sklearn.model_selection import train_test_split\n",
    "from sklearn.preprocessing import StandardScaler, MinMaxScaler\n",
    "import gc # сборщик мусора\n",
    "from imputer import FeatureImputer"
   ]
  },
  {
   "cell_type": "code",
   "execution_count": 58,
   "metadata": {},
   "outputs": [],
   "source": [
    "# paths\n",
    "RAW_DATA_PATH = Path('./data_raw')\n",
    "TRAIN_RAW_PATH = RAW_DATA_PATH / 'train.csv'\n",
    "SCALERS_PATH = Path('./scalers')\n",
    "\n",
    "DATA_TAKE_NO = '01_bal_smote'\n",
    "IMPUTER_METHOD = '01_nan'\n",
    "SCALING_METHOD = 'standard'\n",
    "BALANCE_METHOD = 'smote'\n",
    "\n",
    "DATA_PATH = Path('./data/' + DATA_TAKE_NO)\n",
    "TRAIN_PATH  = DATA_PATH / 'train.csv'\n",
    "TEST_PATH = DATA_PATH / 'validation.csv'\n",
    "TRAIN_TARGET_PATH = DATA_PATH / 'train_target.csv'\n",
    "TEST_TARGET_PATH = DATA_PATH / 'validation_target.csv'"
   ]
  },
  {
   "cell_type": "code",
   "execution_count": 59,
   "metadata": {},
   "outputs": [],
   "source": [
    "# загрузить словарь признаков\n",
    "with open(\"feature_dict.json\", \"r\") as f:\n",
    "    feature_dict = json.load(f)\n",
    "# заполнить признаки по словарю\n",
    "NUM_FEATURE_NAMES = feature_dict['NUM_FEATURE_NAMES']\n",
    "CAT_FEATURE_NAMES = feature_dict['CAT_FEATURE_NAMES']\n",
    "TARGET_NAME = feature_dict['TARGET_NAME']\n",
    "SELECTED_FEATURE_NAMES = NUM_FEATURE_NAMES"
   ]
  },
  {
   "cell_type": "code",
   "execution_count": 60,
   "metadata": {},
   "outputs": [],
   "source": [
    "def do_scaling(df, method, with_save = 1):\n",
    "    \"\"\"масштабирование\"\"\"\n",
    "    assert method in ['standard', 'minmax'], 'Неверный метод масштабирования'\n",
    "    if method == 'standard':\n",
    "        scaler = StandardScaler()\n",
    "        file_name = 'st_scaler.pkl'\n",
    "    elif method == 'minmax':\n",
    "        scaler = MinMaxScaler()\n",
    "        file_name = 'minmax_scaler.pkl'\n",
    "    \n",
    "    df_norm = df.copy()\n",
    "    df_norm[NUM_FEATURE_NAMES] = scaler.fit_transform(df_norm[NUM_FEATURE_NAMES])\n",
    "\n",
    "    df = df_norm.copy()\n",
    "    \n",
    "    if with_save:\n",
    "        with open(SCALERS_PATH / file_name, 'wb') as file:\n",
    "            pickle.dump(scaler, file)\n",
    "    return df.sample(frac=1)"
   ]
  },
  {
   "cell_type": "code",
   "execution_count": 61,
   "metadata": {},
   "outputs": [],
   "source": [
    "def do_2class_df_balancing(df, method = 'over', target_name = TARGET_NAME):\n",
    "    \"\"\"сэмплирование (балансировка для двух классов)\"\"\"\n",
    "    assert method in ['over', 'under', 'tomek', 'smote'], 'Неверный метод сэмплирования'\n",
    "    \n",
    "    target_counts = df[target_name].value_counts()\n",
    "\n",
    "    major_class_name = target_counts.argmax()\n",
    "    minor_class_name = target_counts.argmin()\n",
    "\n",
    "    disbalance_coeff = int(target_counts[major_class_name] / target_counts[minor_class_name]) - 1\n",
    "    if method == 'over':\n",
    "        for i in range(disbalance_coeff):\n",
    "            sample = df[df[target_name] == minor_class_name].sample(target_counts[minor_class_name])\n",
    "            df = df.append(sample, ignore_index=True)\n",
    "            \n",
    "    elif method == 'under':\n",
    "        df_ = df.copy()\n",
    "        df = df_[df_[target_name] == minor_class_name]\n",
    "        tmp = df_[df_[target_name] == major_class_name]\n",
    "        df = df.append(tmp.iloc[\n",
    "            np.random.randint(0, tmp.shape[0], target_counts[minor_class_name])\n",
    "        ], ignore_index=True)\n",
    "\n",
    "    elif method == 'tomek':\n",
    "        from imblearn.under_sampling import TomekLinks\n",
    "        tl = TomekLinks()\n",
    "        X_tomek, y_tomek = tl.fit_sample(df.drop(columns=target_name), df[target_name])\n",
    "        df = pd.concat([X_tomek, y_tomek], axis=1)\n",
    "    \n",
    "    elif method == 'smote':\n",
    "        from imblearn.over_sampling import SMOTE\n",
    "        smote = SMOTE()\n",
    "        # ???!!! installed imblearn.__version__ = '0.8.0', updated sklearn\n",
    "        # but SMOTE() has no attribute fit_sample() \n",
    "        X_smote, y_smote = smote.fit_resample(df.drop(columns=target_name), df[target_name], )\n",
    "        df = pd.concat([X_smote, y_smote], axis=1)\n",
    "\n",
    "    return df.sample(frac=1)     "
   ]
  },
  {
   "cell_type": "markdown",
   "metadata": {},
   "source": [
    "### Из сырого train-набора данных по варианту обработки получить:\n",
    " * train-набор\n",
    " * validation-набор"
   ]
  },
  {
   "cell_type": "code",
   "execution_count": 62,
   "metadata": {},
   "outputs": [],
   "source": [
    "# считать сырой набор\n",
    "df = pd.read_csv(TRAIN_RAW_PATH)"
   ]
  },
  {
   "cell_type": "code",
   "execution_count": 63,
   "metadata": {},
   "outputs": [],
   "source": [
    "# выбросы и пропуски\n",
    "imputer = FeatureImputer(df, IMPUTER_METHOD)\n",
    "df = imputer.transform()"
   ]
  },
  {
   "cell_type": "code",
   "execution_count": 64,
   "metadata": {},
   "outputs": [
    {
     "data": {
      "text/plain": [
       "1    5387\n",
       "0    5387\n",
       "Name: Credit Default, dtype: int64"
      ]
     },
     "execution_count": 64,
     "metadata": {},
     "output_type": "execute_result"
    }
   ],
   "source": [
    "# балансировка классов\n",
    "df = df[NUM_FEATURE_NAMES + [TARGET_NAME]]\n",
    "df = do_2class_df_balancing(df, BALANCE_METHOD)\n",
    "df[TARGET_NAME].value_counts()"
   ]
  },
  {
   "cell_type": "code",
   "execution_count": 65,
   "metadata": {},
   "outputs": [
    {
     "data": {
      "text/plain": [
       "104"
      ]
     },
     "execution_count": 65,
     "metadata": {},
     "output_type": "execute_result"
    }
   ],
   "source": [
    "X = df[SELECTED_FEATURE_NAMES]\n",
    "y = df[TARGET_NAME]\n",
    "del df\n",
    "gc.collect()"
   ]
  },
  {
   "cell_type": "code",
   "execution_count": 66,
   "metadata": {},
   "outputs": [],
   "source": [
    "# стандартизация\n",
    "# X = do_scaling(X, SCALING_METHOD)"
   ]
  },
  {
   "cell_type": "code",
   "execution_count": 67,
   "metadata": {},
   "outputs": [
    {
     "data": {
      "text/html": [
       "<div>\n",
       "<style scoped>\n",
       "    .dataframe tbody tr th:only-of-type {\n",
       "        vertical-align: middle;\n",
       "    }\n",
       "\n",
       "    .dataframe tbody tr th {\n",
       "        vertical-align: top;\n",
       "    }\n",
       "\n",
       "    .dataframe thead th {\n",
       "        text-align: right;\n",
       "    }\n",
       "</style>\n",
       "<table border=\"1\" class=\"dataframe\">\n",
       "  <thead>\n",
       "    <tr style=\"text-align: right;\">\n",
       "      <th></th>\n",
       "      <th>Annual Income</th>\n",
       "      <th>Tax Liens</th>\n",
       "      <th>Number of Open Accounts</th>\n",
       "      <th>Years of Credit History</th>\n",
       "      <th>Maximum Open Credit</th>\n",
       "      <th>Number of Credit Problems</th>\n",
       "      <th>Months since last delinquent</th>\n",
       "      <th>Bankruptcies</th>\n",
       "      <th>Current Loan Amount</th>\n",
       "      <th>Current Credit Balance</th>\n",
       "      <th>Monthly Debt</th>\n",
       "      <th>Credit Score</th>\n",
       "    </tr>\n",
       "  </thead>\n",
       "  <tbody>\n",
       "    <tr>\n",
       "      <th>779</th>\n",
       "      <td>1014144.0</td>\n",
       "      <td>0.0</td>\n",
       "      <td>6.0</td>\n",
       "      <td>18.6</td>\n",
       "      <td>322608.0</td>\n",
       "      <td>0.0</td>\n",
       "      <td>19.0</td>\n",
       "      <td>0.0</td>\n",
       "      <td>99999999.0</td>\n",
       "      <td>268033.0</td>\n",
       "      <td>19100.0</td>\n",
       "      <td>651.0</td>\n",
       "    </tr>\n",
       "    <tr>\n",
       "      <th>4816</th>\n",
       "      <td>1168386.0</td>\n",
       "      <td>0.0</td>\n",
       "      <td>9.0</td>\n",
       "      <td>10.5</td>\n",
       "      <td>192390.0</td>\n",
       "      <td>0.0</td>\n",
       "      <td>36.0</td>\n",
       "      <td>0.0</td>\n",
       "      <td>178882.0</td>\n",
       "      <td>109497.0</td>\n",
       "      <td>13315.0</td>\n",
       "      <td>731.0</td>\n",
       "    </tr>\n",
       "  </tbody>\n",
       "</table>\n",
       "</div>"
      ],
      "text/plain": [
       "      Annual Income  Tax Liens  Number of Open Accounts  \\\n",
       "779       1014144.0        0.0                      6.0   \n",
       "4816      1168386.0        0.0                      9.0   \n",
       "\n",
       "      Years of Credit History  Maximum Open Credit  Number of Credit Problems  \\\n",
       "779                      18.6             322608.0                        0.0   \n",
       "4816                     10.5             192390.0                        0.0   \n",
       "\n",
       "      Months since last delinquent  Bankruptcies  Current Loan Amount  \\\n",
       "779                           19.0           0.0           99999999.0   \n",
       "4816                          36.0           0.0             178882.0   \n",
       "\n",
       "      Current Credit Balance  Monthly Debt  Credit Score  \n",
       "779                 268033.0       19100.0         651.0  \n",
       "4816                109497.0       13315.0         731.0  "
      ]
     },
     "execution_count": 67,
     "metadata": {},
     "output_type": "execute_result"
    }
   ],
   "source": [
    "X.head(2)"
   ]
  },
  {
   "cell_type": "code",
   "execution_count": 68,
   "metadata": {},
   "outputs": [],
   "source": [
    "# разбить train-test\n",
    "X_train, X_test, y_train, y_test = train_test_split(X, y, \n",
    "                                                    shuffle=True,\n",
    "                                                    test_size=0.3,\n",
    "                                                    random_state=21,\n",
    "                                                    stratify=y)"
   ]
  },
  {
   "cell_type": "code",
   "execution_count": 69,
   "metadata": {},
   "outputs": [
    {
     "data": {
      "text/plain": [
       "0    0.500066\n",
       "1    0.499934\n",
       "Name: Credit Default, dtype: float64"
      ]
     },
     "metadata": {},
     "output_type": "display_data"
    },
    {
     "data": {
      "text/plain": [
       "1    0.500155\n",
       "0    0.499845\n",
       "Name: Credit Default, dtype: float64"
      ]
     },
     "metadata": {},
     "output_type": "display_data"
    }
   ],
   "source": [
    "display(y_train.value_counts(normalize=True), y_test.value_counts(normalize=True))"
   ]
  },
  {
   "cell_type": "code",
   "execution_count": 70,
   "metadata": {},
   "outputs": [],
   "source": [
    "X_train.to_csv(TRAIN_PATH, index = False, header=True)\n",
    "X_test.to_csv(TEST_PATH, index = False, header=True)\n",
    "y_train.to_csv(TRAIN_TARGET_PATH, index = False, header=True)\n",
    "y_test.to_csv(TEST_TARGET_PATH, index = False, header=True)"
   ]
  },
  {
   "cell_type": "code",
   "execution_count": null,
   "metadata": {},
   "outputs": [],
   "source": []
  }
 ],
 "metadata": {
  "kernelspec": {
   "display_name": "Python 3",
   "language": "python",
   "name": "python3"
  },
  "language_info": {
   "codemirror_mode": {
    "name": "ipython",
    "version": 3
   },
   "file_extension": ".py",
   "mimetype": "text/x-python",
   "name": "python",
   "nbconvert_exporter": "python",
   "pygments_lexer": "ipython3",
   "version": "3.8.5"
  }
 },
 "nbformat": 4,
 "nbformat_minor": 4
}
