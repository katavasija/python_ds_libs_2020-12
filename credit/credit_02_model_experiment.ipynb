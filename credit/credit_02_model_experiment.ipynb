{
 "cells": [
  {
   "cell_type": "code",
   "execution_count": 94,
   "metadata": {},
   "outputs": [],
   "source": [
    "from pathlib import Path\n",
    "import json\n",
    "import pandas as pd\n",
    "from sklearn.metrics import classification_report, f1_score, precision_score, recall_score\n",
    "import gc # сборщик мусора"
   ]
  },
  {
   "cell_type": "code",
   "execution_count": 95,
   "metadata": {},
   "outputs": [
    {
     "data": {
      "text/plain": [
       "4555"
      ]
     },
     "execution_count": 95,
     "metadata": {},
     "output_type": "execute_result"
    }
   ],
   "source": [
    "gc.collect()"
   ]
  },
  {
   "cell_type": "code",
   "execution_count": 96,
   "metadata": {},
   "outputs": [],
   "source": [
    "# версия данных\n",
    "DATA_TAKE_NO = '01_bal_smote'\n",
    "DATA_PATH = Path('./data/' + DATA_TAKE_NO)\n",
    "\n",
    "# версия моделей\n",
    "MODEL_TAKE_NO = '01_bal_smote'\n",
    "MODEL_PATH = Path('./models/' + MODEL_TAKE_NO)\n",
    "\n",
    "SCALERS_PATH = Path('./scalers')\n",
    "\n",
    "# пути\n",
    "TRAIN_PATH  = DATA_PATH / 'train.csv'\n",
    "TEST_PATH = DATA_PATH / 'validation.csv'\n",
    "TRAIN_TARGET_PATH = DATA_PATH / 'train_target.csv'\n",
    "ТEST_TARGET_PATH = DATA_PATH / 'validation_target.csv'"
   ]
  },
  {
   "cell_type": "code",
   "execution_count": 97,
   "metadata": {},
   "outputs": [],
   "source": [
    "# загрузить словарь признаков\n",
    "with open(\"feature_dict.json\", \"r\") as f:\n",
    "    feature_dict = json.load(f)\n",
    "# заполнить признаки по словарю\n",
    "NUM_FEATURE_NAMES = feature_dict['NUM_FEATURE_NAMES']\n",
    "CAT_FEATURE_NAMES = feature_dict['CAT_FEATURE_NAMES']\n",
    "TARGET_NAME = feature_dict['TARGET_NAME']"
   ]
  },
  {
   "cell_type": "code",
   "execution_count": 98,
   "metadata": {},
   "outputs": [],
   "source": [
    "def get_selected_features():\n",
    "    drop_feature_list = ['Tax Liens']\n",
    "    selected_features = NUM_FEATURE_NAMES\n",
    "    for feature_name in drop_feature_list:\n",
    "        if feature_name in selected_features:\n",
    "            selected_features.remove(feature_name)\n",
    "    return selected_features"
   ]
  },
  {
   "cell_type": "code",
   "execution_count": 99,
   "metadata": {},
   "outputs": [],
   "source": [
    "# загрузить трейн- и валидационный сеты\n",
    "X_train = pd.read_csv(TRAIN_PATH)\n",
    "X_test = pd.read_csv(TEST_PATH)\n",
    "y_train = pd.read_csv(TRAIN_TARGET_PATH)\n",
    "y_test =  pd.read_csv(ТEST_TARGET_PATH)"
   ]
  },
  {
   "cell_type": "code",
   "execution_count": 100,
   "metadata": {},
   "outputs": [
    {
     "data": {
      "text/plain": [
       "(3233, 12)"
      ]
     },
     "execution_count": 100,
     "metadata": {},
     "output_type": "execute_result"
    }
   ],
   "source": [
    "X_test.shape"
   ]
  },
  {
   "cell_type": "code",
   "execution_count": 101,
   "metadata": {},
   "outputs": [],
   "source": [
    "def get_classification_report(y_train_true, y_train_pred, y_test_true, y_test_pred):\n",
    "    print('TRAIN\\n\\n' + classification_report(y_train_true, y_train_pred))\n",
    "    print('TEST\\n\\n' + classification_report(y_test_true, y_test_pred))\n",
    "    # print('CONFUSION MATRIX\\n')\n",
    "    # print(pd.crosstab(y_test_true, y_test_pred))"
   ]
  },
  {
   "cell_type": "code",
   "execution_count": 102,
   "metadata": {},
   "outputs": [],
   "source": [
    "def evaluate_preds(model, X_train, X_test, y_train, y_test):\n",
    "    y_train_pred = model.predict(X_train)\n",
    "    y_test_pred = model.predict(X_test)\n",
    "\n",
    "    get_classification_report(y_train, y_train_pred, y_test, y_test_pred)"
   ]
  },
  {
   "cell_type": "code",
   "execution_count": 103,
   "metadata": {},
   "outputs": [],
   "source": [
    "import seaborn as sns\n",
    "from matplotlib import pyplot as plt\n",
    "%matplotlib inline\n",
    "def show_feature_importances(feature_names, feature_importances, get_top=None):\n",
    "    feature_importances = pd.DataFrame({'feature': feature_names, 'importance': feature_importances})\n",
    "    feature_importances = feature_importances.sort_values('importance', ascending=False)\n",
    "       \n",
    "    plt.figure(figsize = (20, len(feature_importances) * 0.355))\n",
    "    \n",
    "    sns.barplot(feature_importances['importance'], feature_importances['feature'])\n",
    "    \n",
    "    plt.xlabel('Importance')\n",
    "    plt.title('Importance of features')\n",
    "    plt.show()\n",
    "    \n",
    "    if get_top is not None:\n",
    "        return feature_importances['feature'][:get_top].tolist()"
   ]
  },
  {
   "cell_type": "markdown",
   "metadata": {},
   "source": [
    "#### XGBoost"
   ]
  },
  {
   "cell_type": "code",
   "execution_count": 104,
   "metadata": {},
   "outputs": [],
   "source": [
    "import xgboost as xgb"
   ]
  },
  {
   "cell_type": "code",
   "execution_count": 105,
   "metadata": {},
   "outputs": [],
   "source": [
    "SELECTED_FEATURES = get_selected_features()\n",
    "# не заводится с категориальными параметрами\n",
    "X_train_num = X_train[SELECTED_FEATURES]\n",
    "X_test_num = X_test[SELECTED_FEATURES]"
   ]
  },
  {
   "cell_type": "code",
   "execution_count": 106,
   "metadata": {},
   "outputs": [
    {
     "name": "stderr",
     "output_type": "stream",
     "text": [
      "C:\\Users\\kot\\anaconda3\\lib\\site-packages\\xgboost\\sklearn.py:888: UserWarning: The use of label encoder in XGBClassifier is deprecated and will be removed in a future release. To remove this warning, do the following: 1) Pass option use_label_encoder=False when constructing XGBClassifier object; and 2) Encode your labels (y) as integers starting with 0, i.e. 0, 1, 2, ..., [num_class - 1].\n",
      "  warnings.warn(label_encoder_deprecation_msg, UserWarning)\n",
      "C:\\Users\\kot\\anaconda3\\lib\\site-packages\\sklearn\\utils\\validation.py:63: DataConversionWarning: A column-vector y was passed when a 1d array was expected. Please change the shape of y to (n_samples, ), for example using ravel().\n",
      "  return f(*args, **kwargs)\n"
     ]
    },
    {
     "name": "stdout",
     "output_type": "stream",
     "text": [
      "[17:56:23] WARNING: C:/Users/Administrator/workspace/xgboost-win64_release_1.3.0/src/learner.cc:1061: Starting in XGBoost 1.3.0, the default evaluation metric used with the objective 'binary:logistic' was changed from 'error' to 'logloss'. Explicitly set eval_metric if you'd like to restore the old behavior.\n",
      "TRAIN\n",
      "\n",
      "              precision    recall  f1-score   support\n",
      "\n",
      "           0       0.75      0.58      0.66      3771\n",
      "           1       0.66      0.81      0.73      3770\n",
      "\n",
      "    accuracy                           0.70      7541\n",
      "   macro avg       0.71      0.70      0.69      7541\n",
      "weighted avg       0.71      0.70      0.69      7541\n",
      "\n",
      "TEST\n",
      "\n",
      "              precision    recall  f1-score   support\n",
      "\n",
      "           0       0.76      0.56      0.65      1616\n",
      "           1       0.65      0.82      0.73      1617\n",
      "\n",
      "    accuracy                           0.69      3233\n",
      "   macro avg       0.71      0.69      0.69      3233\n",
      "weighted avg       0.71      0.69      0.69      3233\n",
      "\n",
      "Wall time: 272 ms\n"
     ]
    }
   ],
   "source": [
    "%%time\n",
    "model_xgb_num = xgb.XGBClassifier(random_state=21, \n",
    "                             n_estimators=100,\n",
    "                             reg_lambda = 0.2,\n",
    "                             max_depth = 1\n",
    "                             )\n",
    "model_xgb_num.fit(X_train_num, y_train)\n",
    "\n",
    "evaluate_preds(model_xgb_num, X_train_num, X_test_num, y_train, y_test)"
   ]
  },
  {
   "cell_type": "code",
   "execution_count": 107,
   "metadata": {},
   "outputs": [
    {
     "name": "stderr",
     "output_type": "stream",
     "text": [
      "C:\\Users\\kot\\anaconda3\\lib\\site-packages\\seaborn\\_decorators.py:36: FutureWarning: Pass the following variables as keyword args: x, y. From version 0.12, the only valid positional argument will be `data`, and passing other arguments without an explicit keyword will result in an error or misinterpretation.\n",
      "  warnings.warn(\n"
     ]
    },
    {
     "data": {
      "image/png": "[encoded data removed]",
      "text/plain": [
       "<Figure size 1440x281.16 with 1 Axes>"
      ]
     },
     "metadata": {
      "needs_background": "light"
     },
     "output_type": "display_data"
    }
   ],
   "source": [
    "important_features_top = show_feature_importances(X_train_num.columns,\n",
    "                                                  model_xgb_num.feature_importances_, get_top=19)"
   ]
  },
  {
   "cell_type": "code",
   "execution_count": 108,
   "metadata": {
    "scrolled": true
   },
   "outputs": [
    {
     "data": {
      "text/plain": [
       "['Credit Score',\n",
       " 'Current Loan Amount',\n",
       " 'Bankruptcies',\n",
       " 'Number of Open Accounts',\n",
       " 'Number of Credit Problems',\n",
       " 'Annual Income',\n",
       " 'Monthly Debt',\n",
       " 'Months since last delinquent',\n",
       " 'Maximum Open Credit',\n",
       " 'Years of Credit History',\n",
       " 'Current Credit Balance']"
      ]
     },
     "execution_count": 108,
     "metadata": {},
     "output_type": "execute_result"
    }
   ],
   "source": [
    "important_features_top"
   ]
  },
  {
   "cell_type": "code",
   "execution_count": 109,
   "metadata": {},
   "outputs": [],
   "source": [
    "# сохранить модель\n",
    "import pickle\n",
    "model_file = MODEL_PATH / ('model_xgb_num01.pkl')\n",
    "with open(model_file, 'wb') as file:\n",
    "    pickle.dump(model_xgb_num, file)"
   ]
  },
  {
   "cell_type": "code",
   "execution_count": null,
   "metadata": {},
   "outputs": [],
   "source": []
  }
 ],
 "metadata": {
  "kernelspec": {
   "display_name": "Python 3",
   "language": "python",
   "name": "python3"
  },
  "language_info": {
   "codemirror_mode": {
    "name": "ipython",
    "version": 3
   },
   "file_extension": ".py",
   "mimetype": "text/x-python",
   "name": "python",
   "nbconvert_exporter": "python",
   "pygments_lexer": "ipython3",
   "version": "3.8.5"
  }
 },
 "nbformat": 4,
 "nbformat_minor": 4
}
